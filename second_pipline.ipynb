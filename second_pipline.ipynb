{
 "cells": [
  {
   "cell_type": "code",
   "execution_count": 1,
   "metadata": {},
   "outputs": [],
   "source": [
    "import pandas as pd\n",
    "import numpy as np\n",
    "import matplotlib.pyplot as plt\n",
    "import seaborn as sns\n",
    "import os\n",
    "import sys\n",
    "import tensorflow as tf\n",
    "from tensorflow import keras\n",
    "from keras.models import Sequential\n",
    "from keras.layers import Dense, Dropout, Activation, Flatten, Conv2D, MaxPooling2D\n",
    "from sklearn.model_selection import train_test_split\n",
    "from sklearn.metrics import confusion_matrix, classification_report\n",
    "from keras.utils import to_categorical\n",
    "from keras.callbacks import EarlyStopping\n"
   ]
  },
  {
   "cell_type": "code",
   "execution_count": 2,
   "metadata": {},
   "outputs": [],
   "source": [
    "data_path = '011/text_data/'\n",
    "\n",
    "ada_joy = data_path + 'ada_joy.csv'\n",
    "assistance_info = data_path + 'assistance_info.csv'\n",
    "gaze_positions = data_path + 'gaze_positions.csv'\n",
    "input_info = data_path + 'input_info.csv'\n",
    "joint_positions = data_path + 'joint_positions.csv'\n",
    "myo_emg = data_path + 'myo_emg.csv'\n",
    "myo_imu = data_path + 'myo_imu.csv'\n",
    "myo_ori = data_path + 'myo_ori.csv'\n",
    "pupil_cal_eye0 = data_path + 'pupil_cal_eye0.csv'\n",
    "pupil_cal_eye1 = data_path + 'pupil_cal_eye1.csv'\n",
    "pupil_eye0 = data_path + 'pupil_eye0.csv'\n",
    "pupil_eye1 = data_path + 'pupil_eye1.csv'\n",
    "robot_position = data_path + 'robot_position.csv'\n",
    "world_cal_positions = data_path + 'world_cal_positions.csv'\n",
    "\n",
    "ada_joy_df = pd.read_csv(ada_joy)\n",
    "assistance_info_df = pd.read_csv(assistance_info)\n",
    "gaze_positions_df = pd.read_csv(gaze_positions)\n",
    "input_info_df = pd.read_csv(input_info)\n",
    "joint_positions_df = pd.read_csv(joint_positions)\n",
    "myo_emg_df = pd.read_csv(myo_emg)\n",
    "myo_imu_df = pd.read_csv(myo_imu)\n",
    "myo_ori_df = pd.read_csv(myo_ori)\n",
    "pupil_cal_eye0_df = pd.read_csv(pupil_cal_eye0)\n",
    "pupil_cal_eye1_df = pd.read_csv(pupil_cal_eye1)\n",
    "pupil_eye0_df = pd.read_csv(pupil_eye0)\n",
    "pupil_eye1_df = pd.read_csv(pupil_eye1)\n",
    "robot_position_df = pd.read_csv(robot_position)\n",
    "world_cal_positions_df = pd.read_csv(world_cal_positions)"
   ]
  },
  {
   "cell_type": "code",
   "execution_count": 3,
   "metadata": {},
   "outputs": [
    {
     "name": "stderr",
     "output_type": "stream",
     "text": [
      "C:\\Users\\test\\AppData\\Local\\Temp\\ipykernel_16824\\4193131405.py:8: FutureWarning: DataFrame.fillna with 'method' is deprecated and will raise in a future version. Use obj.ffill() or obj.bfill() instead.\n",
      "  df.fillna(method='ffill', inplace=True)\n"
     ]
    }
   ],
   "source": [
    "from sklearn.preprocessing import StandardScaler\n",
    "\n",
    "# List of all your dataframes\n",
    "dfs = [ada_joy_df, assistance_info_df, gaze_positions_df, input_info_df, joint_positions_df, myo_emg_df, myo_imu_df, myo_ori_df, pupil_cal_eye0_df, pupil_cal_eye1_df, pupil_eye0_df, pupil_eye1_df, robot_position_df, world_cal_positions_df]\n",
    "\n",
    "# Data cleaning: Fill missing values with forward fill method\n",
    "for df in dfs:\n",
    "    df.fillna(method='ffill', inplace=True)\n",
    "\n",
    "# Data normalization: Normalize data to have zero mean and unit variance\n",
    "scaler = StandardScaler()\n",
    "for df in dfs:\n",
    "    numeric_cols = df.select_dtypes(include=['float64', 'int64']).columns\n",
    "    df[numeric_cols] = scaler.fit_transform(df[numeric_cols])"
   ]
  },
  {
   "cell_type": "code",
   "execution_count": 4,
   "metadata": {},
   "outputs": [
    {
     "name": "stdout",
     "output_type": "stream",
     "text": [
      "joint_positions_df columns:  Index(['timestamp', 'world_index', 'world_index_corrected', 'mico_joint_1_pos',\n",
      "       'mico_joint_2_pos', 'mico_joint_3_pos', 'mico_joint_4_pos',\n",
      "       'mico_joint_5_pos', 'mico_joint_6_pos', 'mico_joint_finger_1_pos',\n",
      "       'mico_joint_finger_2_pos', 'mico_joint_1_vel', 'mico_joint_2_vel',\n",
      "       'mico_joint_3_vel', 'mico_joint_4_vel', 'mico_joint_5_vel',\n",
      "       'mico_joint_6_vel', 'mico_joint_finger_1_vel',\n",
      "       'mico_joint_finger_2_vel', 'mico_joint_1_eff', 'mico_joint_2_eff',\n",
      "       'mico_joint_3_eff', 'mico_joint_4_eff', 'mico_joint_5_eff',\n",
      "       'mico_joint_6_eff', 'mico_joint_finger_1_eff',\n",
      "       'mico_joint_finger_2_eff'],\n",
      "      dtype='object')\n"
     ]
    }
   ],
   "source": [
    "print('joint_positions_df columns: ', joint_positions_df.columns)"
   ]
  },
  {
   "cell_type": "code",
   "execution_count": 5,
   "metadata": {},
   "outputs": [],
   "source": [
    "joint_cols = ['mico_joint_1_pos', 'mico_joint_2_pos', 'mico_joint_3_pos', 'mico_joint_4_pos', 'mico_joint_5_pos', 'mico_joint_6_pos', 'mico_joint_finger_1_pos', 'mico_joint_finger_2_pos']\n",
    "\n",
    "for col in joint_cols:\n",
    "    joint_positions_df[col + '_acceleration'] = joint_positions_df[col].diff().diff()\n",
    "    joint_positions_df[col + '_jerk'] = joint_positions_df[col].diff().diff().diff()"
   ]
  },
  {
   "cell_type": "code",
   "execution_count": null,
   "metadata": {},
   "outputs": [],
   "source": [
    "from sklearn.model_selection import train_test_split\n",
    "import numpy as np\n",
    "\n",
    "# Assuming 'target' is the column you want to predict\n",
    "X = joint_positions_df.drop('target', axis=1)\n",
    "y = joint_positions_df['target']\n",
    "\n",
    "# Split data into training and testing sets\n",
    "X_train, X_test, y_train, y_test = train_test_split(X, y, test_size=0.2, random_state=42)\n",
    "\n",
    "# Reshape input to be 3D [samples, timesteps, features]\n",
    "X_train = np.reshape(X_train.values, (X_train.shape[0], 1, X_train.shape[1]))\n",
    "X_test = np.reshape(X_test.values, (X_test.shape[0], 1, X_test.shape[1]))"
   ]
  },
  {
   "cell_type": "code",
   "execution_count": null,
   "metadata": {},
   "outputs": [],
   "source": [
    "from keras.models import Sequential\n",
    "from keras.layers import LSTM, Dense\n",
    "\n",
    "# Model building\n",
    "num_features = len(joint_positions_df.columns)  # number of features in your input data\n",
    "num_outputs = 1  # replace with the number of outputs you want to predict\n",
    "model = Sequential()\n",
    "model.add(LSTM(50, input_shape=(None, num_features)))\n",
    "model.add(Dense(num_outputs))\n",
    "model.compile(loss='mean_squared_error', optimizer='adam')"
   ]
  }
 ],
 "metadata": {
  "kernelspec": {
   "display_name": "tf",
   "language": "python",
   "name": "python3"
  },
  "language_info": {
   "codemirror_mode": {
    "name": "ipython",
    "version": 3
   },
   "file_extension": ".py",
   "mimetype": "text/x-python",
   "name": "python",
   "nbconvert_exporter": "python",
   "pygments_lexer": "ipython3",
   "version": "3.9.18"
  }
 },
 "nbformat": 4,
 "nbformat_minor": 2
}
